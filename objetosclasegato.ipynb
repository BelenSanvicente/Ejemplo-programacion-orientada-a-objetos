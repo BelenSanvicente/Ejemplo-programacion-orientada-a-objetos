{
  "nbformat": 4,
  "nbformat_minor": 0,
  "metadata": {
    "colab": {
      "provenance": []
    },
    "kernelspec": {
      "name": "python3",
      "display_name": "Python 3"
    },
    "language_info": {
      "name": "python"
    }
  },
  "cells": [
    {
      "cell_type": "code",
      "source": [
        "class Gato():    \n",
        "   def __init__(self,nombre,edad, color, ejemplares,adoptados): #constructor de la clase\n",
        "      self.nombre = nombre \n",
        "      self.edad = edad\n",
        "      self.color = color\n",
        "      self.ejemplares = ejemplares\n",
        "      self.adoptados = adoptados\n",
        "\n",
        "   def muestra_gato(self):\n",
        "       presentacion = (\"Nombre {}, edad {}, color {}, ejemplares disponibles {}\") #Mensaje\n",
        "       print(presentacion.format(self.nombre,self.edad,self.color,self.ejemplares - self.adoptados))\n",
        "\n",
        "   def adoptar(self):\n",
        "       adoptado = True\n",
        "       if self.adoptados < self.ejemplares:\n",
        "          self.adoptados = self.adoptados+1\n",
        "       else:\n",
        "            adoptado = False;\n",
        "       return adoptado\n",
        "         \n",
        "\n",
        "gato1 = Gato(\"maza\", \"5\",\"miel\",5,2)\n",
        "gato2 = Gato(\"Juanin\", \"9\",\"negro\",9,4) \n",
        "gato1.muestra_gato\n",
        "if gato1.adoptar():\n",
        "  gato1.muestra_gato()\n",
        "else:\n",
        "  print(\"No hay gatos disponibles\")"
      ],
      "metadata": {
        "colab": {
          "base_uri": "https://localhost:8080/"
        },
        "id": "MH8ULKjrciGN",
        "outputId": "b106be51-663c-47a1-b1f7-a34f21075bda"
      },
      "execution_count": null,
      "outputs": [
        {
          "output_type": "stream",
          "name": "stdout",
          "text": [
            "Nombre maza, edad 5, color miel, ejemplares disponibles 2\n"
          ]
        }
      ]
    }
  ]
}